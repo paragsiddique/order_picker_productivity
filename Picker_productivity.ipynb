{
 "cells": [
  {
   "cell_type": "markdown",
   "metadata": {},
   "source": [
    "# Problem Statement"
   ]
  },
  {
   "attachments": {},
   "cell_type": "markdown",
   "metadata": {},
   "source": [
    "<img src=\"IMG_1440.jpg\" width=\"700\">"
   ]
  },
  {
   "cell_type": "markdown",
   "metadata": {},
   "source": [
    "## Getting coordinates"
   ]
  },
  {
   "cell_type": "markdown",
   "metadata": {},
   "source": [
    "<img src=\"A.jpg\" width=\"500\"> "
   ]
  },
  {
   "cell_type": "markdown",
   "metadata": {},
   "source": [
    "## Converting to a network"
   ]
  },
  {
   "cell_type": "markdown",
   "metadata": {},
   "source": [
    "<img src=\"B.jpg\" width=\"500\">"
   ]
  },
  {
   "cell_type": "code",
   "execution_count": 1,
   "metadata": {
    "id": "RS2lP266Hw6a"
   },
   "outputs": [],
   "source": [
    "import numpy as np"
   ]
  },
  {
   "cell_type": "code",
   "execution_count": 2,
   "metadata": {
    "id": "_3AKgL2yIMWw"
   },
   "outputs": [],
   "source": [
    "np.random.seed(0)"
   ]
  },
  {
   "cell_type": "code",
   "execution_count": 3,
   "metadata": {
    "id": "XTRVJjCmHzZm"
   },
   "outputs": [],
   "source": [
    "def generate_order(sku_list, order_lines, qty_range, qty_probability):\n",
    "    order_lines = np.random.randint(1, order_lines+1)\n",
    "    ordered_items = np.random.choice(sku_list, order_lines, replace=False)\n",
    "    ordered_qty = [np.random.choice(qty_range, 1, p= qty_probability)[0] for _ in range(len(ordered_items))]\n",
    "    order_list = dict(zip(ordered_items, ordered_qty))\n",
    "    return order_list"
   ]
  },
  {
   "cell_type": "code",
   "execution_count": 4,
   "metadata": {
    "id": "Mr10kZk9HzcY"
   },
   "outputs": [],
   "source": [
    "def compute_rectilinear_distance(loc_A, loc_B):\n",
    "    x_A, y_A = loc_A\n",
    "    x_B, y_B = loc_B \n",
    "    return np.abs(x_A - x_B) + np.abs(y_A - y_B)"
   ]
  },
  {
   "cell_type": "code",
   "execution_count": 5,
   "metadata": {
    "id": "VTt-IXKgHzfK"
   },
   "outputs": [],
   "source": [
    "def compute_distance_traveled(order_list, distance_dict):\n",
    "    lst = list(order_list.keys())\n",
    "    first_loc = lst[0]\n",
    "    last_loc = lst[-1]\n",
    "\n",
    "    lst_chunk_of_2 = []\n",
    "    for i in range(len(lst)-1):\n",
    "        lst_chunk_of_2.append([lst[i], lst[i+1]])\n",
    "\n",
    "    lst_chunk_of_2.insert(0, ['Depot', first_loc])\n",
    "    lst_chunk_of_2.insert(len(lst_chunk_of_2), [last_loc, 'Depot'])\n",
    "\n",
    "    distance_traveled_list = []\n",
    "    for locs in lst_chunk_of_2:\n",
    "        [skuA, skuB] = locs\n",
    "        loc_skuA = distance_dict[skuA]\n",
    "        loc_skuB = distance_dict[skuB]\n",
    "        skuA_to_skuB_distance = compute_rectilinear_distance(loc_skuA, loc_skuB)\n",
    "        distance_traveled_list.append(skuA_to_skuB_distance)\n",
    "\n",
    "    distance_traveled = np.sum(np.array(distance_traveled_list))\n",
    "    return distance_traveled"
   ]
  },
  {
   "cell_type": "code",
   "execution_count": 6,
   "metadata": {
    "id": "dPTR3mHuHzh0"
   },
   "outputs": [],
   "source": [
    "def picker_tour(order_list, distance_dict, pick_time, travel_speed):\n",
    "    depot = distance_dict['Depot']\n",
    "    if len(order_list)==1:\n",
    "        sku = list(order_list.keys())[0]\n",
    "        loc_sku = distance_dict[sku]\n",
    "        items_picked = list(order_list.values())[0]\n",
    "        distance_traveled = 2*compute_rectilinear_distance(depot, loc_sku)\n",
    "        \n",
    "    else:\n",
    "        items_picked = np.sum(list(order_list.values()))\n",
    "        distance_traveled = compute_distance_traveled(order_list, distance_dict)\n",
    "    \n",
    "    tour_time = items_picked*pick_time + (distance_traveled/travel_speed)   \n",
    "    productivity = items_picked*3600/tour_time\n",
    "    return distance_traveled, items_picked, tour_time, productivity"
   ]
  },
  {
   "cell_type": "markdown",
   "metadata": {},
   "source": [
    "### Data"
   ]
  },
  {
   "cell_type": "code",
   "execution_count": 7,
   "metadata": {
    "id": "sTLjnEovIGBV"
   },
   "outputs": [],
   "source": [
    "distance_dict = {'Depot': (12, 0), 'A': (4, 10), 'B': (4, 6), 'C': (8, 10), \n",
    "                 'D': (8, 6), 'E': (16, 10), 'F': (16, 6), 'G': (20, 10), 'H': (20, 6)}"
   ]
  },
  {
   "cell_type": "code",
   "execution_count": 8,
   "metadata": {
    "id": "hoi7ALfJIDKx"
   },
   "outputs": [],
   "source": [
    "sku_list = ['A', 'B', 'C', 'D', 'E', 'F', 'G', 'H']\n",
    "order_lines = 2\n",
    "qty_range = [1, 2, 3, 4]\n",
    "qty_probability = [0.2, 0.3, 0.3, 0.2]\n",
    "pick_time = 1 # sec\n",
    "travel_speed = 3 # ft/sec"
   ]
  },
  {
   "cell_type": "code",
   "execution_count": 9,
   "metadata": {
    "id": "6Es9QBe4IJmp"
   },
   "outputs": [],
   "source": [
    "no_of_orders = 10000"
   ]
  },
  {
   "cell_type": "markdown",
   "metadata": {},
   "source": [
    "## Solution"
   ]
  },
  {
   "cell_type": "code",
   "execution_count": 10,
   "metadata": {
    "colab": {
     "base_uri": "https://localhost:8080/"
    },
    "id": "ORYzxSGNHzkl",
    "outputId": "5efb3a7c-e668-4c77-cddf-1332d16a3f0f"
   },
   "outputs": [
    {
     "name": "stdout",
     "output_type": "stream",
     "text": [
      "Average productivity 883.04 items/hour\n"
     ]
    }
   ],
   "source": [
    "distance_traveled_tracker = []\n",
    "items_picked_tracker = []\n",
    "tour_time_tracker = []\n",
    "productivity_tracker = []\n",
    "for _ in range(no_of_orders):\n",
    "    order_list = generate_order(sku_list, order_lines, qty_range, qty_probability)\n",
    "    distance_traveled, items_picked, tour_time, productivity = picker_tour(order_list, distance_dict, pick_time, travel_speed)\n",
    "    distance_traveled_tracker.append(distance_traveled)\n",
    "    items_picked_tracker.append(items_picked)\n",
    "    tour_time_tracker.append(tour_time)\n",
    "    productivity_tracker.append(productivity)\n",
    "\n",
    "avg_distance_traveled = np.mean(np.array(distance_traveled_tracker))\n",
    "avg_items_picked = np.mean(np.array(items_picked_tracker))\n",
    "avg_tour_time = np.mean(np.array(tour_time_tracker))\n",
    "avg_productivity = np.mean(np.array(productivity_tracker))\n",
    "\n",
    "#print('Average distance traveled {:0.2f} ft'.format(avg_distance_traveled))\n",
    "#print('Average no. of items picked {:0.2f}'.format(avg_items_picked))\n",
    "#print('Average picking tour time {:0.2f} sec'.format(avg_tour_time))\n",
    "print('Average productivity {:0.2f} items/hour'.format(avg_productivity))"
   ]
  },
  {
   "cell_type": "code",
   "execution_count": null,
   "metadata": {
    "id": "AWbvnJD2Hzm6"
   },
   "outputs": [],
   "source": []
  }
 ],
 "metadata": {
  "colab": {
   "name": "picking_productivity_rev01.ipynb",
   "provenance": []
  },
  "kernelspec": {
   "display_name": "Python 3",
   "language": "python",
   "name": "python3"
  },
  "language_info": {
   "codemirror_mode": {
    "name": "ipython",
    "version": 3
   },
   "file_extension": ".py",
   "mimetype": "text/x-python",
   "name": "python",
   "nbconvert_exporter": "python",
   "pygments_lexer": "ipython3",
   "version": "3.7.10"
  }
 },
 "nbformat": 4,
 "nbformat_minor": 1
}
